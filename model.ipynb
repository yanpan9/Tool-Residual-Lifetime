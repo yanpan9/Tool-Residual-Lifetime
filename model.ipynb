{
 "cells": [
  {
   "cell_type": "code",
   "execution_count": 1,
   "metadata": {},
   "outputs": [],
   "source": [
    "import gc\n",
    "import pywt\n",
    "import numpy as np\n",
    "import tensorflow as tf\n",
    "from scipy.optimize import curve_fit\n",
    "from tensorflow import keras\n",
    "from matplotlib import pyplot as plt \n",
    "from scipy.stats import mode\n",
    "from sklearn.cross_validation import train_test_split\n",
    "from statsmodels.robust import mad\n",
    "\n",
    "#from keras.backend.tensorflow_backend import set_session\n",
    "#config = tf.ConfigProto()\n",
    "#config.gpu_options.per_process_gpu_memory_fraction = 0.5\n",
    "#set_session(tf.Session(config=config))"
   ]
  },
  {
   "cell_type": "code",
   "execution_count": 2,
   "metadata": {},
   "outputs": [],
   "source": [
    "def my_metric(y_true, y_pred):\n",
    "    y_true, y_pred = tf.reshape(y_true, [-1]), tf.reshape(y_pred, [-1])\n",
    "    er = y_true - y_pred\n",
    "    mask_n, mask_p = (er<=0), (er>0)\n",
    "    er_n, er_p = tf.boolean_mask(er, mask_n), tf.boolean_mask(er, mask_p)\n",
    "    score_n = tf.exp(-tf.log(0.5)*er_n/5)\n",
    "    score_p = tf.exp(tf.log(0.5)*er_p/20)\n",
    "    score = tf.concat([score_n, score_p], 0)\n",
    "    score = tf.reduce_mean(score)*100\n",
    "    return score\n",
    "\n",
    "def metric_numpy(y_true, y_pred):\n",
    "    y_true, y_pred = y_true.ravel(), y_pred.ravel()\n",
    "    er = y_true - y_pred\n",
    "    mask_n, mask_p = (er<=0), (er>0)\n",
    "    er_n, er_p = er[mask_n], er[mask_p]\n",
    "    score_n = np.exp(-np.log(0.5)*er_n/5)\n",
    "    score_p = np.exp(np.log(0.5)*er_p/20)\n",
    "    score = np.concatenate([score_n, score_p], 0)\n",
    "    score = np.mean(score)*100\n",
    "    return score\n",
    "\n",
    "def my_loss(y_true, y_pred):\n",
    "    y_true, y_pred = tf.reshape(y_true, [-1]), tf.reshape(y_pred, [-1])\n",
    "    diff = tf.abs(y_true - y_pred)\n",
    "    loss = tf.pow(diff, 3)\n",
    "    return tf.reduce_mean(loss)\n",
    "\n",
    "class Metric_Callback(keras.callbacks.Callback):\n",
    "    def __init__(self, train_data, valid_data, t_l, v_l):\n",
    "        self.train_data = train_data\n",
    "        self.valid_data = valid_data\n",
    "        self.t_l, self.v_l = t_l, v_l\n",
    "        \n",
    "    def on_epoch_end(self, batch, logs={}):\n",
    "        y_pred = self.model.predict(self.train_data[0]).ravel() * self.t_l\n",
    "        y_true = self.train_data[1] * self.t_l\n",
    "        print(\"Train score %.4f\"%metric_numpy(y_true, y_pred))\n",
    "        \n",
    "        y_pred = self.model.predict(self.valid_data[0]).ravel() * self.v_l\n",
    "        y_true = self.valid_data[1] * self.v_l\n",
    "        print(\"Valid score %.4f\"%metric_numpy(y_true, y_pred))\n",
    "\n",
    "def wavelet_smooth(data, wavelet=\"db4\", level=4, m=1, n=4, plot=False):\n",
    "    coeff = pywt.wavedec(data,wavelet,mode='sym', level=level)\n",
    "\n",
    "    for i in range(m, n+1):\n",
    "        length = len(coeff[i])\n",
    "        threshold = np.sqrt(2*np.log(length))\n",
    "        coeff[i] = pywt.threshold(coeff[i], value=threshold, mode=\"soft\")\n",
    "\n",
    "    denoised_data = pywt.waverec(coeff,wavelet,mode=\"sym\")\n",
    "    if plot:\n",
    "        fig = plt.figure(figsize=(16,9))\n",
    "        ax = fig.add_subplot(111)\n",
    "        ax.plot(data)\n",
    "        ax.plot(denoised_data)\n",
    "        plt.show()\n",
    "    return denoised_data"
   ]
  },
  {
   "cell_type": "code",
   "execution_count": 3,
   "metadata": {},
   "outputs": [],
   "source": [
    "def curve(x, b):\n",
    "    return -5*x+b\n",
    "curve_numpy = np.vectorize(curve)"
   ]
  },
  {
   "cell_type": "code",
   "execution_count": 4,
   "metadata": {},
   "outputs": [],
   "source": [
    "train = np.load(\"Output/01_train_a.npz\", mmap_mode='r')\n",
    "valid = np.load(\"Output/02_test_a.npz\", mmap_mode=\"r\")"
   ]
  },
  {
   "cell_type": "code",
   "execution_count": 5,
   "metadata": {},
   "outputs": [],
   "source": [
    "gc.collect()\n",
    "train_data, train_label = train[\"data\"], train[\"label\"]\n",
    "indices = np.random.permutation(train_label.shape[0])\n",
    "train_features, train_S, train_y = train_data[indices], train_label[indices, 0], train_label[indices,-1]\n",
    "\n",
    "valid_data, valid_label = valid[\"data\"], valid[\"label\"]\n",
    "valid_features, valid_S, valid_y = valid_data, valid_label[:, 0], valid_label[:,-1]"
   ]
  },
  {
   "cell_type": "code",
   "execution_count": 6,
   "metadata": {},
   "outputs": [
    {
     "name": "stderr",
     "output_type": "stream",
     "text": [
      "/home/shuzhilian/anaconda/lib/python3.5/site-packages/ipykernel/__main__.py:6: ComplexWarning: Casting complex values to real discards the imaginary part\n",
      "/home/shuzhilian/anaconda/lib/python3.5/site-packages/ipykernel/__main__.py:10: ComplexWarning: Casting complex values to real discards the imaginary part\n"
     ]
    }
   ],
   "source": [
    "#func = lambda x:wavelet_smooth(x)\n",
    "func = np.fft.fft\n",
    "train_X = np.zeros((len(train_y), 25600, 1))\n",
    "valid_X = np.zeros((len(valid_y), 25600, 1))\n",
    "for idx, elem in enumerate(train_features):\n",
    "    train_X[idx, :, 0] = func(elem[:, 0])\n",
    "    #features_modified[idx, :, 1] = func(elem[:, 1])\n",
    "    #features_modified[idx, :, 2] = func(elem[:, 2])\n",
    "for idx, elem in enumerate(valid_features):\n",
    "    valid_X[idx, :, 0] = func(elem[:, 0])"
   ]
  },
  {
   "cell_type": "code",
   "execution_count": 24,
   "metadata": {},
   "outputs": [],
   "source": [
    "def build_model(shape_1, shape_2):\n",
    "    input_x = keras.layers.Input(shape=shape_1, name=\"X\")\n",
    "    used_time = keras.layers.Input(shape=shape_2, name=\"S\")\n",
    "    x = tf.layers.BatchNormalization(axis=-1)(input_x)\n",
    "    \n",
    "    x = tf.layers.Conv1D(filters=16, kernel_size=7, strides=1, activation=None, padding=\"same\")(x)\n",
    "    x = tf.layers.BatchNormalization(axis=-1)(x)\n",
    "    x = keras.layers.Activation(activation=tf.nn.relu)(x)\n",
    "    x = tf.layers.Conv1D(filters=16, kernel_size=7, strides=1, activation=None, padding=\"same\")(x)\n",
    "    x = tf.layers.BatchNormalization(axis=-1)(x)\n",
    "    x = keras.layers.Activation(activation=tf.nn.relu)(x)\n",
    "    x = tf.layers.MaxPooling1D(pool_size=4, strides=4)(x)\n",
    "    x = tf.layers.Dropout(0.5)(x)\n",
    "    \n",
    "    x = tf.layers.Conv1D(filters=16, kernel_size=7, strides=1, activation=None, padding=\"same\")(x)\n",
    "    x = tf.layers.BatchNormalization(axis=-1)(x)\n",
    "    x = keras.layers.Activation(activation=tf.nn.relu)(x)\n",
    "    x = tf.layers.Conv1D(filters=16, kernel_size=7, strides=1, activation=None, padding=\"same\")(x)\n",
    "    x = tf.layers.BatchNormalization(axis=-1)(x)\n",
    "    x = keras.layers.Activation(activation=tf.nn.relu)(x)\n",
    "    x = tf.layers.MaxPooling1D(pool_size=4, strides=4)(x)\n",
    "    x = tf.layers.Dropout(0.5)(x)\n",
    "    \n",
    "    x = tf.layers.Conv1D(filters=32, kernel_size=7, strides=1, activation=None, padding=\"same\")(x)\n",
    "    x = tf.layers.BatchNormalization(axis=-1)(x)\n",
    "    x = keras.layers.Activation(activation=tf.nn.relu)(x)\n",
    "    x = tf.layers.Conv1D(filters=32, kernel_size=7, strides=1, activation=None, padding=\"same\")(x)\n",
    "    x = tf.layers.BatchNormalization(axis=-1)(x)\n",
    "    x = keras.layers.Activation(activation=tf.nn.relu)(x)\n",
    "    x = tf.layers.MaxPooling1D(pool_size=4, strides=4)(x)\n",
    "    x = tf.layers.Dropout(0.5)(x)\n",
    "    \n",
    "    x = tf.layers.Conv1D(filters=32, kernel_size=7, strides=1, activation=None, padding=\"same\")(x)\n",
    "    x = tf.layers.BatchNormalization(axis=-1)(x)\n",
    "    x = keras.layers.Activation(activation=tf.nn.relu)(x)\n",
    "    x = tf.layers.Conv1D(filters=32, kernel_size=7, strides=1, activation=None, padding=\"same\")(x)\n",
    "    x = tf.layers.BatchNormalization(axis=-1)(x)\n",
    "    x = keras.layers.Activation(activation=tf.nn.relu)(x)\n",
    "    x = tf.layers.MaxPooling1D(pool_size=4, strides=4)(x)\n",
    "    x = tf.layers.Dropout(0.5)(x)\n",
    "    \n",
    "    x = tf.layers.Conv1D(filters=16, kernel_size=7, strides=1, activation=None, padding=\"same\")(x)\n",
    "    x = tf.layers.BatchNormalization(axis=-1)(x)\n",
    "    x = keras.layers.Activation(activation=tf.nn.relu)(x)\n",
    "    x = tf.layers.Conv1D(filters=16, kernel_size=7, strides=1, activation=None, padding=\"same\")(x)\n",
    "    x = tf.layers.BatchNormalization(axis=-1)(x)\n",
    "    x = keras.layers.Activation(activation=tf.nn.relu)(x)\n",
    "    x = tf.layers.MaxPooling1D(pool_size=4, strides=4)(x)\n",
    "    x = tf.layers.Dropout(0.5)(x)\n",
    "    \n",
    "    x = tf.layers.Flatten()(x)\n",
    "    x = tf.layers.Dense(1600, activation=tf.nn.relu)(x)\n",
    "    x = tf.layers.Dense(800, activation=tf.nn.relu)(x)\n",
    "    x = tf.layers.Dense(200, activation=tf.nn.relu)(x)\n",
    "    #x = keras.layers.Concatenate(axis=-1)([x,used_time])\n",
    "    x = tf.layers.Dense(50, activation=tf.nn.relu)(x)\n",
    "    x = tf.layers.Dense(20, activation=tf.nn.relu)(x)\n",
    "    y = tf.layers.Dense(1, activation=None)(x)\n",
    "    \n",
    "    model = keras.models.Model(inputs=[input_x, used_time], outputs=y, name=\"base\")\n",
    "    return model"
   ]
  },
  {
   "cell_type": "code",
   "execution_count": 25,
   "metadata": {},
   "outputs": [],
   "source": [
    "model = build_model((25600, 1), (1,))"
   ]
  },
  {
   "cell_type": "code",
   "execution_count": 27,
   "metadata": {},
   "outputs": [],
   "source": [
    "optimizer = tf.train.AdamOptimizer(learning_rate=1e-3)\n",
    "losses = tf.losses.mean_squared_error\n",
    "#losses = my_loss\n",
    "model.compile(optimizer=optimizer, loss=losses, metrics=[my_metric])"
   ]
  },
  {
   "cell_type": "code",
   "execution_count": 28,
   "metadata": {},
   "outputs": [],
   "source": [
    "#my_callback = Metric_Callback([[train_X_1, train_X_2], train_y], \n",
    "#                              [[test_X_1, test_X_2], test_y, \n",
    "#                              train_y[:, 1], test_y[:, 1])"
   ]
  },
  {
   "cell_type": "code",
   "execution_count": 29,
   "metadata": {
    "scrolled": false
   },
   "outputs": [
    {
     "name": "stdout",
     "output_type": "stream",
     "text": [
      "Train on 7882 samples, validate on 3000 samples\n",
      "Epoch 1/32\n",
      "7882/7882 [==============================] - 10s 1ms/step - loss: 5555.2547 - my_metric: 18.1228 - val_loss: 5602.2275 - val_my_metric: 32.0815\n",
      "Epoch 2/32\n",
      "7882/7882 [==============================] - 8s 1ms/step - loss: 2180.1284 - my_metric: 25.6193 - val_loss: 5375.5801 - val_my_metric: 30.2604\n",
      "Epoch 3/32\n",
      "7882/7882 [==============================] - 8s 1ms/step - loss: 1445.7232 - my_metric: 31.1280 - val_loss: 5819.1294 - val_my_metric: 30.0593\n",
      "Epoch 4/32\n",
      "7882/7882 [==============================] - 8s 999us/step - loss: 1025.4745 - my_metric: 35.7601 - val_loss: 5256.9325 - val_my_metric: 21.0933\n",
      "Epoch 5/32\n",
      "7882/7882 [==============================] - 8s 993us/step - loss: 813.6828 - my_metric: 38.6228 - val_loss: 5186.9810 - val_my_metric: 23.6750\n",
      "Epoch 6/32\n",
      "7882/7882 [==============================] - 8s 1ms/step - loss: 775.2359 - my_metric: 38.4624 - val_loss: 4902.1560 - val_my_metric: 13.7582\n",
      "Epoch 7/32\n",
      "7882/7882 [==============================] - 8s 986us/step - loss: 647.1489 - my_metric: 40.4648 - val_loss: 5028.3648 - val_my_metric: 13.0268\n",
      "Epoch 8/32\n",
      "7882/7882 [==============================] - 8s 999us/step - loss: 563.9513 - my_metric: 41.9066 - val_loss: 4995.6180 - val_my_metric: 11.9274\n",
      "Epoch 9/32\n",
      "7882/7882 [==============================] - 8s 989us/step - loss: 506.4573 - my_metric: 43.1537 - val_loss: 5482.1262 - val_my_metric: 23.0109\n",
      "Epoch 10/32\n",
      "7882/7882 [==============================] - 8s 998us/step - loss: 448.9214 - my_metric: 45.3386 - val_loss: 6298.0008 - val_my_metric: 21.3517\n",
      "Epoch 11/32\n",
      "7882/7882 [==============================] - 8s 986us/step - loss: 410.3553 - my_metric: 45.2468 - val_loss: 5658.5465 - val_my_metric: 24.5612\n",
      "Epoch 12/32\n",
      "7882/7882 [==============================] - 8s 995us/step - loss: 372.7225 - my_metric: 47.3035 - val_loss: 5601.2584 - val_my_metric: 19.4240\n",
      "Epoch 13/32\n",
      "7882/7882 [==============================] - 8s 986us/step - loss: 321.1703 - my_metric: 48.8143 - val_loss: 5040.1892 - val_my_metric: 14.6272\n",
      "Epoch 14/32\n",
      "7882/7882 [==============================] - 8s 981us/step - loss: 298.8929 - my_metric: 49.9716 - val_loss: 5585.5050 - val_my_metric: 14.0141\n",
      "Epoch 15/32\n",
      "7882/7882 [==============================] - 8s 992us/step - loss: 305.6769 - my_metric: 49.3196 - val_loss: 5014.8594 - val_my_metric: 15.5947\n",
      "Epoch 16/32\n",
      "7882/7882 [==============================] - 8s 988us/step - loss: 242.5238 - my_metric: 52.0904 - val_loss: 5313.5022 - val_my_metric: 19.0477\n",
      "Epoch 17/32\n",
      "7882/7882 [==============================] - 8s 981us/step - loss: 234.9627 - my_metric: 52.3640 - val_loss: 5258.1985 - val_my_metric: 16.2701\n",
      "Epoch 18/32\n",
      "7882/7882 [==============================] - 8s 983us/step - loss: 255.7339 - my_metric: 52.0692 - val_loss: 4924.1943 - val_my_metric: 20.0225\n",
      "Epoch 19/32\n",
      "7882/7882 [==============================] - 8s 984us/step - loss: 227.3295 - my_metric: 52.4589 - val_loss: 5561.3483 - val_my_metric: 17.7493\n",
      "Epoch 20/32\n",
      "7882/7882 [==============================] - 8s 987us/step - loss: 183.3305 - my_metric: 54.6499 - val_loss: 5212.0230 - val_my_metric: 21.6315\n",
      "Epoch 21/32\n",
      "7882/7882 [==============================] - 8s 997us/step - loss: 172.9176 - my_metric: 55.9214 - val_loss: 5490.3451 - val_my_metric: 22.3937\n",
      "Epoch 22/32\n",
      "7882/7882 [==============================] - 8s 983us/step - loss: 176.6334 - my_metric: 55.2220 - val_loss: 5295.3434 - val_my_metric: 17.7722\n",
      "Epoch 23/32\n",
      "7882/7882 [==============================] - 8s 984us/step - loss: 205.4163 - my_metric: 54.1491 - val_loss: 5425.8937 - val_my_metric: 17.4839\n",
      "Epoch 24/32\n",
      "7882/7882 [==============================] - 8s 981us/step - loss: 177.4648 - my_metric: 54.7031 - val_loss: 5417.8909 - val_my_metric: 16.4247\n",
      "Epoch 25/32\n",
      "7882/7882 [==============================] - 8s 978us/step - loss: 201.9163 - my_metric: 54.0680 - val_loss: 5622.0188 - val_my_metric: 15.7587\n",
      "Epoch 26/32\n",
      "7882/7882 [==============================] - 8s 990us/step - loss: 167.3048 - my_metric: 56.9760 - val_loss: 5794.2491 - val_my_metric: 19.4591\n",
      "Epoch 27/32\n",
      "7882/7882 [==============================] - 8s 994us/step - loss: 139.4617 - my_metric: 58.0374 - val_loss: 5829.1136 - val_my_metric: 17.2939\n",
      "Epoch 28/32\n",
      "7882/7882 [==============================] - 8s 988us/step - loss: 159.0705 - my_metric: 56.6510 - val_loss: 5259.2142 - val_my_metric: 18.3319\n",
      "Epoch 29/32\n",
      "7882/7882 [==============================] - 8s 989us/step - loss: 240.6754 - my_metric: 52.6401 - val_loss: 5453.9677 - val_my_metric: 15.2628\n",
      "Epoch 30/32\n",
      "7882/7882 [==============================] - 8s 976us/step - loss: 371.6355 - my_metric: 48.1998 - val_loss: 4983.8465 - val_my_metric: 18.3893\n",
      "Epoch 31/32\n",
      "7882/7882 [==============================] - 8s 986us/step - loss: 243.4830 - my_metric: 52.1239 - val_loss: 5472.7580 - val_my_metric: 17.7616\n",
      "Epoch 32/32\n",
      "7882/7882 [==============================] - 8s 986us/step - loss: 273.0926 - my_metric: 50.8366 - val_loss: 5731.6809 - val_my_metric: 14.9225\n"
     ]
    }
   ],
   "source": [
    "#model.load_weights(\"Fourier_Outlier.weights\")\n",
    "history = model.fit([train_X, train_S], train_y, epochs=32, batch_size=64, \n",
    "                    validation_data=[[valid_X, valid_S], valid_y])"
   ]
  },
  {
   "cell_type": "code",
   "execution_count": 35,
   "metadata": {
    "scrolled": true
   },
   "outputs": [],
   "source": [
    "#model.save_weights(\"xx.weights\")"
   ]
  },
  {
   "cell_type": "code",
   "execution_count": 30,
   "metadata": {},
   "outputs": [],
   "source": [
    "preds = model.predict([valid_X,valid_S])\n",
    "x = list()\n",
    "for i in range(10):\n",
    "    x += [i]*60"
   ]
  },
  {
   "cell_type": "code",
   "execution_count": 31,
   "metadata": {
    "scrolled": false
   },
   "outputs": [
    {
     "name": "stdout",
     "output_type": "stream",
     "text": [
      "100.0 [190.]\n",
      "[110.39806279]\n"
     ]
    },
    {
     "data": {
      "image/png": "[encoded data removed]",
      "text/plain": [
       "<Figure size 432x288 with 1 Axes>"
      ]
     },
     "metadata": {
      "needs_background": "light"
     },
     "output_type": "display_data"
    },
    {
     "name": "stdout",
     "output_type": "stream",
     "text": [
      "129.0 [150.]\n",
      "[126.99026771]\n"
     ]
    },
    {
     "data": {
      "image/png": "[encoded data removed]",
      "text/plain": [
       "<Figure size 432x288 with 1 Axes>"
      ]
     },
     "metadata": {
      "needs_background": "light"
     },
     "output_type": "display_data"
    },
    {
     "name": "stdout",
     "output_type": "stream",
     "text": [
      "63.5 [80.]\n",
      "[69.31659586]\n"
     ]
    },
    {
     "data": {
      "image/png": "[encoded data removed]",
      "text/plain": [
       "<Figure size 432x288 with 1 Axes>"
      ]
     },
     "metadata": {
      "needs_background": "light"
     },
     "output_type": "display_data"
    },
    {
     "name": "stdout",
     "output_type": "stream",
     "text": [
      "91.5 [95.]\n",
      "[90.41562617]\n"
     ]
    },
    {
     "data": {
      "image/png": "[encoded data removed]",
      "text/plain": [
       "<Figure size 432x288 with 1 Axes>"
      ]
     },
     "metadata": {
      "needs_background": "light"
     },
     "output_type": "display_data"
    },
    {
     "name": "stdout",
     "output_type": "stream",
     "text": [
      "32.5 [30.]\n",
      "[46.59011717]\n"
     ]
    },
    {
     "data": {
      "image/png": "[encoded data removed]",
      "text/plain": [
       "<Figure size 432x288 with 1 Axes>"
      ]
     },
     "metadata": {
      "needs_background": "light"
     },
     "output_type": "display_data"
    }
   ],
   "source": [
    "preds = preds.reshape(5, -1)\n",
    "for pred in preds:\n",
    "    plt.scatter(x, pred)\n",
    "    data = pred.reshape(-1, 60)\n",
    "    mean_val = data.mean(axis=-1)\n",
    "    data = data//5\n",
    "    mode_val = mode(data, axis=-1)[0]*5\n",
    "    mode_res = (mode_val - np.array([[45],[40],[35],[30],[25],[20],[15],[10],[5],[0]])).mean()\n",
    "    print(mode_res,mode_val[-1])\n",
    "    b = curve_fit(curve, x, pred)[0]\n",
    "    y = [curve(i, b) for i in x]\n",
    "    print(y[-1])\n",
    "    plt.plot(mean_val)\n",
    "    plt.plot(mode_val)\n",
    "    plt.plot(x,y)\n",
    "    plt.show()"
   ]
  },
  {
   "cell_type": "code",
   "execution_count": 35,
   "metadata": {},
   "outputs": [
    {
     "data": {
      "text/plain": [
       "48.5"
      ]
     },
     "execution_count": 35,
     "metadata": {},
     "output_type": "execute_result"
    }
   ],
   "source": [
    "(mode_val - np.array([[45],[40],[35],[30],[25],[20],[15],[10],[5],[0]])).mean()"
   ]
  },
  {
   "cell_type": "code",
   "execution_count": 27,
   "metadata": {},
   "outputs": [
    {
     "name": "stdout",
     "output_type": "stream",
     "text": [
      "[120.42187545]\n",
      "[119.4981322]\n",
      "[117.48767144]\n",
      "[120.10352607]\n",
      "[117.55310917]\n"
     ]
    }
   ],
   "source": [
    "for pred in preds:\n",
    "    print(curve_fit(curve, x, pred)[0])"
   ]
  },
  {
   "cell_type": "code",
   "execution_count": null,
   "metadata": {},
   "outputs": [],
   "source": [
    "res = (test_label[:, 0:1]/(1-preds))*preds-test_label[:,1:2]\n",
    "res = res.reshape(5, 10, 60)\n",
    "res = res[:, -1, :]"
   ]
  },
  {
   "cell_type": "code",
   "execution_count": null,
   "metadata": {},
   "outputs": [],
   "source": [
    "temp = res//10*10"
   ]
  },
  {
   "cell_type": "code",
   "execution_count": null,
   "metadata": {},
   "outputs": [],
   "source": [
    "temp"
   ]
  },
  {
   "cell_type": "code",
   "execution_count": null,
   "metadata": {},
   "outputs": [],
   "source": [
    "modes = mode(temp, axis=-1)[0]"
   ]
  },
  {
   "cell_type": "code",
   "execution_count": null,
   "metadata": {},
   "outputs": [],
   "source": [
    "for i in range(5):\n",
    "    print(res[i][(temp[i]>=modes[i]) & (temp[i]<(modes[i]+10))].mean())"
   ]
  },
  {
   "cell_type": "code",
   "execution_count": null,
   "metadata": {},
   "outputs": [],
   "source": [
    "(temp[i]>=modes[i]) & (temp[i]<(modes[i]+10))"
   ]
  },
  {
   "cell_type": "code",
   "execution_count": null,
   "metadata": {},
   "outputs": [],
   "source": []
  },
  {
   "cell_type": "code",
   "execution_count": null,
   "metadata": {},
   "outputs": [],
   "source": [
    "a = tf.Variable([1,2,3,4])\n",
    "mask = a > 2\n",
    "b = tf.boolean_mask(a,mask)\n",
    "plus = b+1"
   ]
  },
  {
   "cell_type": "code",
   "execution_count": null,
   "metadata": {},
   "outputs": [],
   "source": [
    "sess = tf.Session()"
   ]
  },
  {
   "cell_type": "code",
   "execution_count": null,
   "metadata": {},
   "outputs": [],
   "source": [
    "sess.run(tf.global_variables_initializer())\n",
    "sess.run(plus)"
   ]
  },
  {
   "cell_type": "code",
   "execution_count": null,
   "metadata": {},
   "outputs": [],
   "source": [
    "sess.run(a)"
   ]
  },
  {
   "cell_type": "code",
   "execution_count": null,
   "metadata": {},
   "outputs": [],
   "source": [
    "data_0 = features[160*0:160*2:2, :, 0].ravel()\n",
    "data_1 = features[160*0:160*2:2, :, 1].ravel()\n",
    "data_2 = features[160*0:160*2:2, :, 2].ravel()"
   ]
  },
  {
   "cell_type": "code",
   "execution_count": null,
   "metadata": {},
   "outputs": [],
   "source": [
    "fig = plt.figure(figsize=(32,9))\n",
    "ax = fig.add_subplot(111)\n",
    "ax.plot(data_0)\n",
    "plt.show()"
   ]
  },
  {
   "cell_type": "code",
   "execution_count": 21,
   "metadata": {},
   "outputs": [
    {
     "data": {
      "text/plain": [
       "array([160, 155, 189, ..., 100, 130, 127])"
      ]
     },
     "execution_count": 21,
     "metadata": {},
     "output_type": "execute_result"
    }
   ],
   "source": [
    "valid_y"
   ]
  },
  {
   "cell_type": "code",
   "execution_count": 32,
   "metadata": {},
   "outputs": [
    {
     "data": {
      "text/plain": [
       "18.43150395042046"
      ]
     },
     "execution_count": 32,
     "metadata": {},
     "output_type": "execute_result"
    }
   ],
   "source": [
    "y_true = np.array([43,47,21,15])\n",
    "y_pred = np.array([])\n",
    "metric_numpy(y_true, y_pred)"
   ]
  },
  {
   "cell_type": "code",
   "execution_count": 31,
   "metadata": {},
   "outputs": [
    {
     "data": {
      "text/plain": [
       "array([ 80,  75, 130, ..., 110,  55,  80])"
      ]
     },
     "execution_count": 31,
     "metadata": {},
     "output_type": "execute_result"
    }
   ],
   "source": [
    "valid_S"
   ]
  },
  {
   "cell_type": "code",
   "execution_count": null,
   "metadata": {},
   "outputs": [],
   "source": []
  }
 ],
 "metadata": {
  "kernelspec": {
   "display_name": "Python [conda env:anaconda]",
   "language": "python",
   "name": "conda-env-anaconda-py"
  },
  "language_info": {
   "codemirror_mode": {
    "name": "ipython",
    "version": 3
   },
   "file_extension": ".py",
   "mimetype": "text/x-python",
   "name": "python",
   "nbconvert_exporter": "python",
   "pygments_lexer": "ipython3",
   "version": "3.5.6"
  },
  "nbpresent": {
   "slides": {
    "0053307e-8cdf-4663-9530-8a82b8f329b9": {
     "id": "0053307e-8cdf-4663-9530-8a82b8f329b9",
     "prev": "f42fe18d-9cdd-4c0d-ba49-109fd5a2c7c6",
     "regions": {
      "a819c4df-37f3-4392-976c-e8a114413199": {
       "attrs": {
        "height": 0.8,
        "width": 0.8,
        "x": 0.1,
        "y": 0.1
       },
       "content": {
        "cell": "d824f5c5-bb44-40d4-864b-2001deefa253",
        "part": "whole"
       },
       "id": "a819c4df-37f3-4392-976c-e8a114413199"
      }
     }
    },
    "0264b12e-de62-478f-87f7-c587c694ca1b": {
     "id": "0264b12e-de62-478f-87f7-c587c694ca1b",
     "prev": "16bc0e9a-b9c4-4d79-9e74-f5ac39a47a20",
     "regions": {
      "d8a60750-c682-4a1b-967c-9a83ef63efbb": {
       "attrs": {
        "height": 0.8,
        "width": 0.8,
        "x": 0.1,
        "y": 0.1
       },
       "content": {
        "cell": "3e8ad29e-846d-43b0-97ac-1e977f7a1d1b",
        "part": "whole"
       },
       "id": "d8a60750-c682-4a1b-967c-9a83ef63efbb"
      }
     }
    },
    "06ab287d-53a9-448c-a47a-f9e66cc1c375": {
     "id": "06ab287d-53a9-448c-a47a-f9e66cc1c375",
     "prev": "6609123e-1725-48e1-b2e7-a42bf8ffe4d1",
     "regions": {
      "ae105074-07bc-4e91-b50f-12d0612176e7": {
       "attrs": {
        "height": 0.8,
        "width": 0.8,
        "x": 0.1,
        "y": 0.1
       },
       "content": {
        "cell": "7c412911-5bab-4687-8c22-6acf87a102ed",
        "part": "whole"
       },
       "id": "ae105074-07bc-4e91-b50f-12d0612176e7"
      }
     }
    },
    "0b7f88fb-c5ec-4ff6-8809-5a48479baade": {
     "id": "0b7f88fb-c5ec-4ff6-8809-5a48479baade",
     "prev": "436f2862-b41e-47cc-8c38-413f4b4948c7",
     "regions": {
      "fe968b91-bfe5-4d4c-a331-7ba27f3457c3": {
       "attrs": {
        "height": 0.8,
        "width": 0.8,
        "x": 0.1,
        "y": 0.1
       },
       "content": {
        "cell": "7a344291-961c-44db-9eab-9604f751588f",
        "part": "whole"
       },
       "id": "fe968b91-bfe5-4d4c-a331-7ba27f3457c3"
      }
     }
    },
    "0c86b350-b268-45fc-b6da-770e585ab6c7": {
     "id": "0c86b350-b268-45fc-b6da-770e585ab6c7",
     "prev": "86b0ae2c-7162-4782-aa67-99ea746aaf15",
     "regions": {
      "107f1691-f519-4e48-ba4e-310e4ecfe754": {
       "attrs": {
        "height": 0.8,
        "width": 0.8,
        "x": 0.1,
        "y": 0.1
       },
       "content": {
        "cell": "663ca933-71ed-4ffb-9ecf-af3a953d2990",
        "part": "whole"
       },
       "id": "107f1691-f519-4e48-ba4e-310e4ecfe754"
      }
     }
    },
    "1213e330-e5a6-47c4-8c13-477cda3ef5e0": {
     "id": "1213e330-e5a6-47c4-8c13-477cda3ef5e0",
     "prev": "29ce32ca-544b-4989-9b62-18574cacc8be",
     "regions": {
      "899435a2-44da-4f2c-970b-e7afe151e36d": {
       "attrs": {
        "height": 0.8,
        "width": 0.8,
        "x": 0.1,
        "y": 0.1
       },
       "content": {
        "cell": "d44b6480-2f9e-449c-873c-bd9c9fbf42d9",
        "part": "whole"
       },
       "id": "899435a2-44da-4f2c-970b-e7afe151e36d"
      }
     }
    },
    "16bc0e9a-b9c4-4d79-9e74-f5ac39a47a20": {
     "id": "16bc0e9a-b9c4-4d79-9e74-f5ac39a47a20",
     "prev": "9a966244-ad6b-48a2-ac07-a3bd7c6a441b",
     "regions": {
      "465afa87-c048-480f-920b-034f645f927e": {
       "attrs": {
        "height": 0.8,
        "width": 0.8,
        "x": 0.1,
        "y": 0.1
       },
       "content": {
        "cell": "72d3b8ea-879a-415f-bf6f-43b86b3d0c5f",
        "part": "whole"
       },
       "id": "465afa87-c048-480f-920b-034f645f927e"
      }
     }
    },
    "187fc67f-dce6-413e-b012-6b432184b6e4": {
     "id": "187fc67f-dce6-413e-b012-6b432184b6e4",
     "prev": "9d6da707-7475-4f36-acd0-333f9e59d727",
     "regions": {
      "4daa5c16-2b1b-48d2-94aa-e0acdd0fae5a": {
       "attrs": {
        "height": 0.8,
        "width": 0.8,
        "x": 0.1,
        "y": 0.1
       },
       "content": {
        "cell": "740dc15c-2b9d-4198-a5fc-3221d07376ba",
        "part": "whole"
       },
       "id": "4daa5c16-2b1b-48d2-94aa-e0acdd0fae5a"
      }
     }
    },
    "1e51c85d-73ee-41d1-851f-7392c7f3228a": {
     "id": "1e51c85d-73ee-41d1-851f-7392c7f3228a",
     "prev": "187fc67f-dce6-413e-b012-6b432184b6e4",
     "regions": {
      "6ee5113c-8e70-4016-8a53-9f8e183d6a35": {
       "attrs": {
        "height": 0.8,
        "width": 0.8,
        "x": 0.1,
        "y": 0.1
       },
       "content": {
        "cell": "1f63a07a-6aad-4af1-9609-485970915129",
        "part": "whole"
       },
       "id": "6ee5113c-8e70-4016-8a53-9f8e183d6a35"
      }
     }
    },
    "22099de7-2ab2-407d-a0b4-fa70f78a4239": {
     "id": "22099de7-2ab2-407d-a0b4-fa70f78a4239",
     "prev": null,
     "regions": {
      "7d01c70e-c528-4133-bd6a-58a292183f6d": {
       "attrs": {
        "height": 0.8,
        "width": 0.8,
        "x": 0.1,
        "y": 0.1
       },
       "content": {
        "cell": "b85e7f8d-47c2-4b8c-ae15-44444c671975",
        "part": "whole"
       },
       "id": "7d01c70e-c528-4133-bd6a-58a292183f6d"
      }
     }
    },
    "29ce32ca-544b-4989-9b62-18574cacc8be": {
     "id": "29ce32ca-544b-4989-9b62-18574cacc8be",
     "prev": "9ed220e8-c959-466f-b942-2650fa114081",
     "regions": {
      "61723cbf-89c9-4e09-9a86-d66acd96a411": {
       "attrs": {
        "height": 0.8,
        "width": 0.8,
        "x": 0.1,
        "y": 0.1
       },
       "content": {
        "cell": "8fc0d90e-38d3-47ec-907a-ee02184812bc",
        "part": "whole"
       },
       "id": "61723cbf-89c9-4e09-9a86-d66acd96a411"
      }
     }
    },
    "2e0f0b0f-14ae-45cd-9620-d254bf599174": {
     "id": "2e0f0b0f-14ae-45cd-9620-d254bf599174",
     "prev": "22099de7-2ab2-407d-a0b4-fa70f78a4239",
     "regions": {
      "c4df9005-5838-4b21-9cf1-5728e852ffbc": {
       "attrs": {
        "height": 0.8,
        "width": 0.8,
        "x": 0.1,
        "y": 0.1
       },
       "content": null,
       "id": "c4df9005-5838-4b21-9cf1-5728e852ffbc"
      }
     }
    },
    "38590abc-ea03-4fc9-aa3a-2d374e01f363": {
     "id": "38590abc-ea03-4fc9-aa3a-2d374e01f363",
     "prev": "cf226f0c-55f5-4c7f-a236-af8b31baeca1",
     "regions": {
      "df75bf1d-dc62-479a-bd31-f68bcd45efc4": {
       "attrs": {
        "height": 0.8,
        "width": 0.8,
        "x": 0.1,
        "y": 0.1
       },
       "content": {
        "cell": "0d1f7145-b02d-4df8-8a60-66b10e45adec",
        "part": "whole"
       },
       "id": "df75bf1d-dc62-479a-bd31-f68bcd45efc4"
      }
     }
    },
    "436f2862-b41e-47cc-8c38-413f4b4948c7": {
     "id": "436f2862-b41e-47cc-8c38-413f4b4948c7",
     "prev": "0264b12e-de62-478f-87f7-c587c694ca1b",
     "regions": {
      "ea37c117-5cb5-44c1-ad60-15e4741236d0": {
       "attrs": {
        "height": 0.8,
        "width": 0.8,
        "x": 0.1,
        "y": 0.1
       },
       "content": {
        "cell": "5418fdbb-c39b-440b-9d42-180023d2b054",
        "part": "whole"
       },
       "id": "ea37c117-5cb5-44c1-ad60-15e4741236d0"
      }
     }
    },
    "5ed55ab7-0c74-4171-bf23-64feaca31959": {
     "id": "5ed55ab7-0c74-4171-bf23-64feaca31959",
     "prev": "b1bd8999-6322-4436-9826-3bd242b9a600",
     "regions": {
      "9351300a-c27c-4eeb-be96-12bf300eb1dd": {
       "attrs": {
        "height": 0.8,
        "width": 0.8,
        "x": 0.1,
        "y": 0.1
       },
       "content": {
        "cell": "dc84ba34-28e6-43ff-a8ca-0fbff00de293",
        "part": "whole"
       },
       "id": "9351300a-c27c-4eeb-be96-12bf300eb1dd"
      }
     }
    },
    "6609123e-1725-48e1-b2e7-a42bf8ffe4d1": {
     "id": "6609123e-1725-48e1-b2e7-a42bf8ffe4d1",
     "prev": "0c86b350-b268-45fc-b6da-770e585ab6c7",
     "regions": {
      "dcc5439d-e043-406d-b2bb-206b987a132d": {
       "attrs": {
        "height": 0.8,
        "width": 0.8,
        "x": 0.1,
        "y": 0.1
       },
       "content": {
        "cell": "fbd792ca-ce16-45e3-aad9-5de51d64dbc9",
        "part": "whole"
       },
       "id": "dcc5439d-e043-406d-b2bb-206b987a132d"
      }
     }
    },
    "788a616a-2089-46b0-baa3-b9874baeb366": {
     "id": "788a616a-2089-46b0-baa3-b9874baeb366",
     "prev": "5ed55ab7-0c74-4171-bf23-64feaca31959",
     "regions": {
      "e0efce37-9ba2-46eb-a440-3d74d4805985": {
       "attrs": {
        "height": 0.8,
        "width": 0.8,
        "x": 0.1,
        "y": 0.1
       },
       "content": {
        "cell": "fbdc8b92-9d8c-4a5e-b3cd-15385a39b934",
        "part": "whole"
       },
       "id": "e0efce37-9ba2-46eb-a440-3d74d4805985"
      }
     }
    },
    "861272ec-4b1e-472d-9c0b-56ae427abdce": {
     "id": "861272ec-4b1e-472d-9c0b-56ae427abdce",
     "prev": "1e51c85d-73ee-41d1-851f-7392c7f3228a",
     "regions": {
      "be46eda7-264f-4db6-8a63-e2fcaaf8e1dc": {
       "attrs": {
        "height": 0.8,
        "width": 0.8,
        "x": 0.1,
        "y": 0.1
       },
       "content": {
        "cell": "b1f91105-b997-4952-903b-f1caaa9d7b35",
        "part": "whole"
       },
       "id": "be46eda7-264f-4db6-8a63-e2fcaaf8e1dc"
      }
     }
    },
    "86b0ae2c-7162-4782-aa67-99ea746aaf15": {
     "id": "86b0ae2c-7162-4782-aa67-99ea746aaf15",
     "prev": "0b7f88fb-c5ec-4ff6-8809-5a48479baade",
     "regions": {
      "5e9d1af4-ba75-40c7-9091-c931e0f36ade": {
       "attrs": {
        "height": 0.8,
        "width": 0.8,
        "x": 0.1,
        "y": 0.1
       },
       "content": {
        "cell": "9734cdfc-994d-428b-83e0-3b8b031202ad",
        "part": "whole"
       },
       "id": "5e9d1af4-ba75-40c7-9091-c931e0f36ade"
      }
     }
    },
    "88d9a5b7-30ae-4e57-b4ce-d41f67bf5bcd": {
     "id": "88d9a5b7-30ae-4e57-b4ce-d41f67bf5bcd",
     "prev": "0053307e-8cdf-4663-9530-8a82b8f329b9",
     "regions": {
      "f1c93f33-8f8f-4d58-b50c-aec26726ec40": {
       "attrs": {
        "height": 0.8,
        "width": 0.8,
        "x": 0.1,
        "y": 0.1
       },
       "content": {
        "cell": "9a4d9f87-7844-4bf4-8deb-c689926f1a5b",
        "part": "whole"
       },
       "id": "f1c93f33-8f8f-4d58-b50c-aec26726ec40"
      }
     }
    },
    "9a966244-ad6b-48a2-ac07-a3bd7c6a441b": {
     "id": "9a966244-ad6b-48a2-ac07-a3bd7c6a441b",
     "prev": "788a616a-2089-46b0-baa3-b9874baeb366",
     "regions": {
      "63427499-b134-4aa4-9aec-3b3ee34574c7": {
       "attrs": {
        "height": 0.8,
        "width": 0.8,
        "x": 0.1,
        "y": 0.1
       },
       "content": {
        "cell": "477c6dc8-08c0-4510-8bcd-59790d667fa4",
        "part": "whole"
       },
       "id": "63427499-b134-4aa4-9aec-3b3ee34574c7"
      }
     }
    },
    "9d6da707-7475-4f36-acd0-333f9e59d727": {
     "id": "9d6da707-7475-4f36-acd0-333f9e59d727",
     "prev": "de980b59-8f5b-4adc-91e0-1759d46dcc43",
     "regions": {
      "e96f80a2-5015-470e-b5b6-931c6b9cc446": {
       "attrs": {
        "height": 0.8,
        "width": 0.8,
        "x": 0.1,
        "y": 0.1
       },
       "content": {
        "cell": "8e5c82bd-fb54-4e86-a19e-aee09f2fb775",
        "part": "whole"
       },
       "id": "e96f80a2-5015-470e-b5b6-931c6b9cc446"
      }
     }
    },
    "9ed220e8-c959-466f-b942-2650fa114081": {
     "id": "9ed220e8-c959-466f-b942-2650fa114081",
     "prev": "d93bb555-791a-4fce-82bf-cfbd9b1d042c",
     "regions": {
      "e8386d68-34fd-4c89-a239-fb2eff7e86c2": {
       "attrs": {
        "height": 0.8,
        "width": 0.8,
        "x": 0.1,
        "y": 0.1
       },
       "content": {
        "cell": "b7a5313f-0a86-4677-8291-0fe271c31365",
        "part": "whole"
       },
       "id": "e8386d68-34fd-4c89-a239-fb2eff7e86c2"
      }
     }
    },
    "a341bb4d-20e7-459a-821c-db07a1658760": {
     "id": "a341bb4d-20e7-459a-821c-db07a1658760",
     "prev": "d8773e06-29ab-42c1-aaff-f72712829f89",
     "regions": {
      "9839a35e-53bd-41b4-b65b-3c427e0aa1f4": {
       "attrs": {
        "height": 0.8,
        "width": 0.8,
        "x": 0.1,
        "y": 0.1
       },
       "content": {
        "cell": "a1482d9e-69ff-4368-90b6-8583c561d0c6",
        "part": "whole"
       },
       "id": "9839a35e-53bd-41b4-b65b-3c427e0aa1f4"
      }
     }
    },
    "a46e36a7-c6cd-444d-8480-3861420a27dc": {
     "id": "a46e36a7-c6cd-444d-8480-3861420a27dc",
     "prev": "2e0f0b0f-14ae-45cd-9620-d254bf599174",
     "regions": {
      "dd62cb34-c2cc-4458-8125-48e4aa7fe20f": {
       "attrs": {
        "height": 0.8,
        "width": 0.8,
        "x": 0.1,
        "y": 0.1
       },
       "content": {
        "cell": "23d761af-78f1-47ae-a3aa-0f0a3c8e9093",
        "part": "whole"
       },
       "id": "dd62cb34-c2cc-4458-8125-48e4aa7fe20f"
      }
     }
    },
    "a6bb14cd-bb74-4bcd-a06f-a8eeaa874904": {
     "id": "a6bb14cd-bb74-4bcd-a06f-a8eeaa874904",
     "prev": "861272ec-4b1e-472d-9c0b-56ae427abdce",
     "regions": {
      "6568e9be-6216-408a-949c-93ef9834bd8a": {
       "attrs": {
        "height": 0.8,
        "width": 0.8,
        "x": 0.1,
        "y": 0.1
       },
       "content": {
        "cell": "615a60ca-9d11-4aa9-bd96-c94adb9b102b",
        "part": "whole"
       },
       "id": "6568e9be-6216-408a-949c-93ef9834bd8a"
      }
     }
    },
    "b1bd8999-6322-4436-9826-3bd242b9a600": {
     "id": "b1bd8999-6322-4436-9826-3bd242b9a600",
     "prev": "88d9a5b7-30ae-4e57-b4ce-d41f67bf5bcd",
     "regions": {
      "2570b78a-e9d5-4440-84cb-20bd8e3161d4": {
       "attrs": {
        "height": 0.8,
        "width": 0.8,
        "x": 0.1,
        "y": 0.1
       },
       "content": {
        "cell": "ac578398-6310-4b84-8e08-7594664a2a75",
        "part": "whole"
       },
       "id": "2570b78a-e9d5-4440-84cb-20bd8e3161d4"
      }
     }
    },
    "b430f057-4936-443b-9794-dd7f73fb86b4": {
     "id": "b430f057-4936-443b-9794-dd7f73fb86b4",
     "prev": "a46e36a7-c6cd-444d-8480-3861420a27dc",
     "regions": {
      "6f7429d7-6208-4abc-bc87-50f7de9e52c2": {
       "attrs": {
        "height": 0.8,
        "width": 0.8,
        "x": 0.1,
        "y": 0.1
       },
       "content": {
        "cell": "112f6beb-9cc3-41f3-a268-4b3834e4d4fe",
        "part": "whole"
       },
       "id": "6f7429d7-6208-4abc-bc87-50f7de9e52c2"
      }
     }
    },
    "b7f072bb-4fbe-46c1-b488-57eb5f1cb4b5": {
     "id": "b7f072bb-4fbe-46c1-b488-57eb5f1cb4b5",
     "prev": "38590abc-ea03-4fc9-aa3a-2d374e01f363",
     "regions": {
      "fe3daab4-555f-46d9-84d8-0ea51edaaafc": {
       "attrs": {
        "height": 0.8,
        "width": 0.8,
        "x": 0.1,
        "y": 0.1
       },
       "content": {
        "cell": "69033349-8d86-4ac7-9082-777354b75e82",
        "part": "whole"
       },
       "id": "fe3daab4-555f-46d9-84d8-0ea51edaaafc"
      }
     }
    },
    "cf226f0c-55f5-4c7f-a236-af8b31baeca1": {
     "id": "cf226f0c-55f5-4c7f-a236-af8b31baeca1",
     "prev": "a341bb4d-20e7-459a-821c-db07a1658760",
     "regions": {
      "de7ee9d8-c9a0-4442-893e-7978638e0f16": {
       "attrs": {
        "height": 0.8,
        "width": 0.8,
        "x": 0.1,
        "y": 0.1
       },
       "content": {
        "cell": "62ce7ac5-91bc-4b78-9308-45d20c49fd5c",
        "part": "whole"
       },
       "id": "de7ee9d8-c9a0-4442-893e-7978638e0f16"
      }
     }
    },
    "d8773e06-29ab-42c1-aaff-f72712829f89": {
     "id": "d8773e06-29ab-42c1-aaff-f72712829f89",
     "prev": "b430f057-4936-443b-9794-dd7f73fb86b4",
     "regions": {
      "5b8f0a29-146d-43c1-9993-6c42f7dc7ed0": {
       "attrs": {
        "height": 0.8,
        "width": 0.8,
        "x": 0.1,
        "y": 0.1
       },
       "content": {
        "cell": "47174d96-9f05-4b72-9743-11d310f9a8de",
        "part": "whole"
       },
       "id": "5b8f0a29-146d-43c1-9993-6c42f7dc7ed0"
      }
     }
    },
    "d93bb555-791a-4fce-82bf-cfbd9b1d042c": {
     "id": "d93bb555-791a-4fce-82bf-cfbd9b1d042c",
     "prev": "b7f072bb-4fbe-46c1-b488-57eb5f1cb4b5",
     "regions": {
      "7de3b9b0-340e-4cf9-8068-32f46a79df30": {
       "attrs": {
        "height": 0.8,
        "width": 0.8,
        "x": 0.1,
        "y": 0.1
       },
       "content": {
        "cell": "b9e630f9-1ce1-4bf3-a022-e98d7413fe47",
        "part": "whole"
       },
       "id": "7de3b9b0-340e-4cf9-8068-32f46a79df30"
      }
     }
    },
    "de980b59-8f5b-4adc-91e0-1759d46dcc43": {
     "id": "de980b59-8f5b-4adc-91e0-1759d46dcc43",
     "prev": "1213e330-e5a6-47c4-8c13-477cda3ef5e0",
     "regions": {
      "9173bc84-e997-48e6-9363-3d16476bbb16": {
       "attrs": {
        "height": 0.8,
        "width": 0.8,
        "x": 0.1,
        "y": 0.1
       },
       "content": {
        "cell": "5d1e7a07-4ee5-4d80-b5bd-fa64c39a38d4",
        "part": "whole"
       },
       "id": "9173bc84-e997-48e6-9363-3d16476bbb16"
      }
     }
    },
    "f0f3cff6-c87a-4d2c-833f-5ad01eb86209": {
     "id": "f0f3cff6-c87a-4d2c-833f-5ad01eb86209",
     "prev": "a6bb14cd-bb74-4bcd-a06f-a8eeaa874904",
     "regions": {
      "c1a15e8b-cf92-4030-9b27-1fd707579992": {
       "attrs": {
        "height": 0.8,
        "width": 0.8,
        "x": 0.1,
        "y": 0.1
       },
       "content": {
        "cell": "bcf28f7a-c83f-46f0-b136-de94c24cac5b",
        "part": "whole"
       },
       "id": "c1a15e8b-cf92-4030-9b27-1fd707579992"
      }
     }
    },
    "f42fe18d-9cdd-4c0d-ba49-109fd5a2c7c6": {
     "id": "f42fe18d-9cdd-4c0d-ba49-109fd5a2c7c6",
     "prev": "f0f3cff6-c87a-4d2c-833f-5ad01eb86209",
     "regions": {
      "61183403-4fa8-48d7-94b6-63557d401234": {
       "attrs": {
        "height": 0.8,
        "width": 0.8,
        "x": 0.1,
        "y": 0.1
       },
       "content": {
        "cell": "5cca35c9-dd0b-44af-bff5-01ec55cbb02f",
        "part": "whole"
       },
       "id": "61183403-4fa8-48d7-94b6-63557d401234"
      }
     }
    }
   },
   "themes": {}
  }
 },
 "nbformat": 4,
 "nbformat_minor": 2
}
