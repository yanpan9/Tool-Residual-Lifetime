{
 "cells": [
  {
   "cell_type": "code",
   "execution_count": 3,
   "metadata": {},
   "outputs": [],
   "source": [
    "import gc\n",
    "import os\n",
    "import sys\n",
    "import numpy as np\n",
    "import pandas as pd\n",
    "from IPython.display import display"
   ]
  },
  {
   "cell_type": "code",
   "execution_count": 4,
   "metadata": {},
   "outputs": [],
   "source": [
    "frequency = 25600\n",
    "train_01 = \"/home/shuzhilian/Notebook/Industry_Data/01-TrainingData-additional/\"\n",
    "test_01 = \"/home/shuzhilian/Notebook/Industry_Data/02-TestingData-additional/\"\n",
    "final_dir = \"03-FinalData-r1el\"\n",
    "output_dir = \"/home/shuzhilian/Notebook/Industry_Data/Output/\""
   ]
  },
  {
   "cell_type": "code",
   "execution_count": 5,
   "metadata": {},
   "outputs": [],
   "source": [
    "def outlier_value_deal(df, threshold=100):\n",
    "    for column in df:\n",
    "        if df[column].abs().max() < threshold:\n",
    "            continue\n",
    "        else:\n",
    "            df[column] = df[column].apply(lambda x:x if abs(x)<threshold else np.nan)\n",
    "            df = df.fillna(method=\"pad\")\n",
    "    return df"
   ]
  },
  {
   "cell_type": "code",
   "execution_count": 6,
   "metadata": {},
   "outputs": [],
   "source": [
    "def sensor_data_preprocessing(train_dir_root, output_dir, output_name, name_range, start_time, total_life=None):\n",
    "    array_list = list()\n",
    "    lifetime_list = list()\n",
    "    \n",
    "    for i in name_range:\n",
    "        tool_num = i+1\n",
    "        sub_dir=\"%.2d\"%tool_num\n",
    "        path = os.path.join(train_dir_root, sub_dir, \"Sensor\")\n",
    "        files = os.listdir(path)\n",
    "        files_num = len(files)\n",
    "        for j in range(files_num):\n",
    "            csv_num = j+1\n",
    "            file_path = os.path.join(path, \"%d.csv\"%csv_num)\n",
    "            data = pd.read_csv(file_path)\n",
    "            seconds = data.shape[0]//frequency\n",
    "            data = data.iloc[:frequency*seconds]\n",
    "            data = outlier_value_deal(data)\n",
    "            reshape_data = data.values.reshape(-1, frequency, 4)\n",
    "            array_list.append(reshape_data)\n",
    "            used_time = start_time[i]+5*csv_num\n",
    "            if total_life:\n",
    "                lifetime_list.extend([[used_time, total_life[i]-used_time]]*seconds)\n",
    "            else:\n",
    "                lifetime_list.extend([[used_time]]*seconds)\n",
    "            \n",
    "    gc.collect()\n",
    "    length_list = [item.shape[0] for item in array_list]\n",
    "    features = np.memmap(os.path.join(output_dir, \"data.dat\"), dtype=np.float32, mode=\"w+\", shape=(sum(length_list), frequency, 4))\n",
    "    index = 0\n",
    "    for idx, array in enumerate(array_list):\n",
    "        features[index:index+length_list[idx]] = array\n",
    "        index += length_list[idx]\n",
    "    del(array_list)\n",
    "    gc.collect()\n",
    "    labels = np.array(lifetime_list)\n",
    "    output_path = os.path.join(output_dir, output_name)\n",
    "    np.savez(file=output_path, data=features,label=labels)"
   ]
  },
  {
   "cell_type": "markdown",
   "metadata": {},
   "source": [
    "Preprocess data for **RNN/LSTM**"
   ]
  },
  {
   "cell_type": "code",
   "execution_count": 25,
   "metadata": {},
   "outputs": [],
   "source": [
    "def sensor_data_preprocessing_seq(train_dir_root, output_dir, output_name, seq_len=5, seq_deal_method=None):\n",
    "    array_list = list()\n",
    "    lifetime_list = list()\n",
    "    \n",
    "    sub_dirs = os.listdir(train_dir_root)\n",
    "    for num in range(1,4):\n",
    "        sub_dir=\"%.2d\"%num\n",
    "        path = os.path.join(train_dir_root, sub_dir, \"Sensor\")\n",
    "        files = os.listdir(path)\n",
    "        files_num = len(files)\n",
    "        total_lifetime = files_num*5\n",
    "        for num in range(1,files_num+1):\n",
    "            file_path = os.path.join(path, \"%d.csv\"%num)\n",
    "            data = pd.read_csv(file_path)\n",
    "            seconds = data.shape[0]//frequency\n",
    "            samples = seconds//seq_len\n",
    "            data.drop(labels=[\"vibration_2\", \"vibration_3\", \"current\"], axis=1,inplace=True)\n",
    "            data = data.iloc[:frequency*seq_len*samples]\n",
    "            data = outlier_value_deal(data)\n",
    "            reshape_data = data.values.reshape(samples, seq_len, frequency)\n",
    "            if seq_deal_method:\n",
    "                for m in range(samples):\n",
    "                    for n in range(seq_len):\n",
    "                        reshape_data[m,n]=seq_deal_method(reshape_data[m,n])      \n",
    "            array_list.append(reshape_data)\n",
    "            lifetime_list.extend([total_lifetime-5*num]*samples)\n",
    "            \n",
    "    gc.collect()\n",
    "    length_list = [item.shape[0] for item in array_list]\n",
    "    features = np.memmap(os.path.join(output_dir, \"data.dat\"), dtype=np.float32, mode=\"w+\", shape=(sum(length_list), seq_len, frequency))\n",
    "    index = 0\n",
    "    for idx, array in enumerate(array_list):\n",
    "        features[index:index+length_list[idx]] = array\n",
    "        index += length_list[idx]\n",
    "    del(array_list)\n",
    "    gc.collect()\n",
    "    labels = np.array(lifetime_list)\n",
    "    output_path = os.path.join(output_dir, output_name)\n",
    "    np.savez(file=output_path, data=features,label=labels)\n",
    "    \n",
    "def test_sensor_data_preprocessing_seq(test_dir_root, output_dir, output_name, seq_len=5, seq_deal_method=None):\n",
    "    array_list = list()\n",
    "\n",
    "    used_times = [40,70,50,70,120]\n",
    "    total_life = [104,52,190,65,40]\n",
    "    for i in range(1,6):\n",
    "        sub_dir = \"%.2d\"%i\n",
    "        path = os.path.join(test_dir_root, sub_dir, \"Sensor\")\n",
    "        files = os.listdir(path)\n",
    "        files_num = len(files)\n",
    "        for j in range(0,files_num):\n",
    "            num = j+1\n",
    "            used_time = used_times[i-1] + 5*num\n",
    "            file_path = os.path.join(path, \"%d.csv\"%num)\n",
    "            data = pd.read_csv(file_path)\n",
    "            seconds = data.shape[0]//frequency\n",
    "            samples = seconds//seq_len\n",
    "            data.drop(labels=[\"vibration_2\", \"vibration_3\", \"current\"], axis=1,inplace=True)\n",
    "            data = data.iloc[:frequency*seq_len*samples]\n",
    "            data = outlier_value_deal(data)\n",
    "            reshape_data = data.values.reshape(samples, seq_len, frequency)\n",
    "            if seq_deal_method:\n",
    "                for m in range(samples):\n",
    "                    for n in range(seq_len):\n",
    "                        reshape_data[m,n]=seq_deal_method(reshape_data[m,n]) \n",
    "            array_list.append(reshape_data)\n",
    "            \n",
    "    gc.collect()\n",
    "    array = np.vstack(array_list)\n",
    "    output_path = os.path.join(output_dir, output_name)\n",
    "    np.savez(file=output_path, data=array)"
   ]
  },
  {
   "cell_type": "code",
   "execution_count": 7,
   "metadata": {
    "scrolled": false
   },
   "outputs": [
    {
     "name": "stdout",
     "output_type": "stream",
     "text": [
      "CPU times: user 12min 44s, sys: 20.5 s, total: 13min 4s\n",
      "Wall time: 5min 19s\n"
     ]
    }
   ],
   "source": [
    "%%time\n",
    "sensor_data_preprocessing(train_01, output_dir, \"01_train_a.npz\", \n",
    "                          name_range=range(3), \n",
    "                          start_time=[0,0,0], total_life=[240,240,185])\n",
    "gc.collect()"
   ]
  },
  {
   "cell_type": "code",
   "execution_count": 8,
   "metadata": {},
   "outputs": [
    {
     "name": "stdout",
     "output_type": "stream",
     "text": [
      "CPU times: user 4min 24s, sys: 7.87 s, total: 4min 32s\n",
      "Wall time: 1min 29s\n"
     ]
    }
   ],
   "source": [
    "%%time \n",
    "sensor_data_preprocessing(test_01, output_dir, \"02_test_a.npz\",\n",
    "                          name_range=range(5),\n",
    "                          start_time=[40,70,50,70,120], \n",
    "                          total_life=[194,172,290,185,210])"
   ]
  },
  {
   "cell_type": "code",
   "execution_count": null,
   "metadata": {},
   "outputs": [],
   "source": [
    "%%time \n",
    "sensor_data_preprocessing(final_dir, output_dir, \"03_final.npz\",\n",
    "                          name_range=range(4),\n",
    "                          start_time=[40,70,50,70,120], \n",
    "                          total_life=None)"
   ]
  },
  {
   "cell_type": "code",
   "execution_count": 13,
   "metadata": {},
   "outputs": [
    {
     "name": "stderr",
     "output_type": "stream",
     "text": [
      "/home/shuzhilian/anaconda/lib/python3.5/site-packages/ipykernel/__main__.py:24: ComplexWarning: Casting complex values to real discards the imaginary part\n"
     ]
    },
    {
     "name": "stdout",
     "output_type": "stream",
     "text": [
      "CPU times: user 11min 2s, sys: 13.5 s, total: 11min 16s\n",
      "Wall time: 5min 51s\n"
     ]
    }
   ],
   "source": [
    "%%time\n",
    "sensor_data_preprocessing_seq(train_01, output_dir, \"01_l.npz\", seq_deal_method=np.fft.fft)"
   ]
  },
  {
   "cell_type": "code",
   "execution_count": 26,
   "metadata": {},
   "outputs": [
    {
     "name": "stderr",
     "output_type": "stream",
     "text": [
      "/home/shuzhilian/anaconda/lib/python3.5/site-packages/ipykernel/__main__.py:64: ComplexWarning: Casting complex values to real discards the imaginary part\n"
     ]
    },
    {
     "name": "stdout",
     "output_type": "stream",
     "text": [
      "CPU times: user 3min 42s, sys: 3.49 s, total: 3min 46s\n",
      "Wall time: 1min 17s\n"
     ]
    }
   ],
   "source": [
    "%%time\n",
    "test_sensor_data_preprocessing_seq(test_01, output_dir, \"02_l.npz\", seq_deal_method=np.fft.fft)"
   ]
  },
  {
   "cell_type": "code",
   "execution_count": null,
   "metadata": {},
   "outputs": [],
   "source": []
  }
 ],
 "metadata": {
  "kernelspec": {
   "display_name": "Python [conda env:anaconda]",
   "language": "python",
   "name": "conda-env-anaconda-py"
  },
  "language_info": {
   "codemirror_mode": {
    "name": "ipython",
    "version": 3
   },
   "file_extension": ".py",
   "mimetype": "text/x-python",
   "name": "python",
   "nbconvert_exporter": "python",
   "pygments_lexer": "ipython3",
   "version": "3.5.6"
  }
 },
 "nbformat": 4,
 "nbformat_minor": 2
}
